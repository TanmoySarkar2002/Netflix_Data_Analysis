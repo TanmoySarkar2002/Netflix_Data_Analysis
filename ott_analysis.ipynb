{
 "cells": [
  {
   "cell_type": "markdown",
   "id": "fb8f16fa-6552-4bd0-914c-8832312a6778",
   "metadata": {},
   "source": [
    "## Netflix Data Analysis"
   ]
  },
  {
   "cell_type": "code",
   "execution_count": 3,
   "id": "f2dd9b9b-0ad5-43c2-9831-92e19dbefd68",
   "metadata": {},
   "outputs": [],
   "source": [
    "import pandas as pd\n",
    "import seaborn as sns\n",
    "import warnings\n",
    "warnings.filterwarnings(\"ignore\")"
   ]
  },
  {
   "cell_type": "code",
   "execution_count": 6,
   "id": "9431b67e-2fa7-422c-9631-155763aa3f76",
   "metadata": {},
   "outputs": [],
   "source": [
    "data=pd.read_csv(\"C:\\\\Users\\\\HP\\\\Desktop\\\\netfix_analysis\\\\netflix_titles.csv\")"
   ]
  },
  {
   "cell_type": "code",
   "execution_count": 7,
   "id": "7a566e44-7836-473b-b955-ebea0c140498",
   "metadata": {},
   "outputs": [
    {
     "data": {
      "text/plain": [
       "(7787, 12)"
      ]
     },
     "execution_count": 7,
     "metadata": {},
     "output_type": "execute_result"
    }
   ],
   "source": [
    "data.shape #to show the no. of rows and columns "
   ]
  },
  {
   "cell_type": "code",
   "execution_count": 5,
   "id": "ada9ddd0-5b94-4086-9aa9-93c1ff002cf0",
   "metadata": {},
   "outputs": [
    {
     "data": {
      "text/plain": [
       "93444"
      ]
     },
     "execution_count": 5,
     "metadata": {},
     "output_type": "execute_result"
    }
   ],
   "source": [
    "data.size  #to show no of total elements in the dataset"
   ]
  },
  {
   "cell_type": "code",
   "execution_count": 6,
   "id": "e582762d-6cc3-47df-91dc-7241406a2578",
   "metadata": {},
   "outputs": [
    {
     "data": {
      "text/plain": [
       "Index(['show_id', 'type', 'title', 'director', 'cast', 'country', 'date_added',\n",
       "       'release_year', 'rating', 'duration', 'listed_in', 'description'],\n",
       "      dtype='object')"
      ]
     },
     "execution_count": 6,
     "metadata": {},
     "output_type": "execute_result"
    }
   ],
   "source": [
    "data.columns #to show the each column name"
   ]
  },
  {
   "cell_type": "code",
   "execution_count": 7,
   "id": "bc96c567-e4f9-49af-b4af-263ac763c6dc",
   "metadata": {},
   "outputs": [
    {
     "data": {
      "text/plain": [
       "show_id         object\n",
       "type            object\n",
       "title           object\n",
       "director        object\n",
       "cast            object\n",
       "country         object\n",
       "date_added      object\n",
       "release_year     int64\n",
       "rating          object\n",
       "duration        object\n",
       "listed_in       object\n",
       "description     object\n",
       "dtype: object"
      ]
     },
     "execution_count": 7,
     "metadata": {},
     "output_type": "execute_result"
    }
   ],
   "source": [
    "data.dtypes #to show the data type of each column"
   ]
  },
  {
   "cell_type": "markdown",
   "id": "57da09ca-9229-49ca-a34c-0738b7c9043d",
   "metadata": {},
   "source": [
    "### Task1: Is there any duplicate record in the dataset? if yes then remove the duplicate records."
   ]
  },
  {
   "cell_type": "code",
   "execution_count": 9,
   "id": "cebfe336-ae03-417c-b840-a8b18182668c",
   "metadata": {},
   "outputs": [
    {
     "data": {
      "text/html": [
       "<div>\n",
       "<style scoped>\n",
       "    .dataframe tbody tr th:only-of-type {\n",
       "        vertical-align: middle;\n",
       "    }\n",
       "\n",
       "    .dataframe tbody tr th {\n",
       "        vertical-align: top;\n",
       "    }\n",
       "\n",
       "    .dataframe thead th {\n",
       "        text-align: right;\n",
       "    }\n",
       "</style>\n",
       "<table border=\"1\" class=\"dataframe\">\n",
       "  <thead>\n",
       "    <tr style=\"text-align: right;\">\n",
       "      <th></th>\n",
       "      <th>show_id</th>\n",
       "      <th>type</th>\n",
       "      <th>title</th>\n",
       "      <th>director</th>\n",
       "      <th>cast</th>\n",
       "      <th>country</th>\n",
       "      <th>date_added</th>\n",
       "      <th>release_year</th>\n",
       "      <th>rating</th>\n",
       "      <th>duration</th>\n",
       "      <th>listed_in</th>\n",
       "      <th>description</th>\n",
       "    </tr>\n",
       "  </thead>\n",
       "  <tbody>\n",
       "  </tbody>\n",
       "</table>\n",
       "</div>"
      ],
      "text/plain": [
       "Empty DataFrame\n",
       "Columns: [show_id, type, title, director, cast, country, date_added, release_year, rating, duration, listed_in, description]\n",
       "Index: []"
      ]
     },
     "execution_count": 9,
     "metadata": {},
     "output_type": "execute_result"
    }
   ],
   "source": [
    "data[data.duplicated()] # to check row wise and detect the duplicate rows"
   ]
  },
  {
   "cell_type": "markdown",
   "id": "02deaa93-5f0c-451f-b936-a5b5433ff352",
   "metadata": {},
   "source": [
    "### Task2: Is there any null value present in any column? "
   ]
  },
  {
   "cell_type": "code",
   "execution_count": 10,
   "id": "3092e3c4-3de5-4ad0-920e-f80799103cf6",
   "metadata": {},
   "outputs": [
    {
     "data": {
      "text/html": [
       "<div>\n",
       "<style scoped>\n",
       "    .dataframe tbody tr th:only-of-type {\n",
       "        vertical-align: middle;\n",
       "    }\n",
       "\n",
       "    .dataframe tbody tr th {\n",
       "        vertical-align: top;\n",
       "    }\n",
       "\n",
       "    .dataframe thead th {\n",
       "        text-align: right;\n",
       "    }\n",
       "</style>\n",
       "<table border=\"1\" class=\"dataframe\">\n",
       "  <thead>\n",
       "    <tr style=\"text-align: right;\">\n",
       "      <th></th>\n",
       "      <th>show_id</th>\n",
       "      <th>type</th>\n",
       "      <th>title</th>\n",
       "      <th>director</th>\n",
       "      <th>cast</th>\n",
       "      <th>country</th>\n",
       "      <th>date_added</th>\n",
       "      <th>release_year</th>\n",
       "      <th>rating</th>\n",
       "      <th>duration</th>\n",
       "      <th>listed_in</th>\n",
       "      <th>description</th>\n",
       "    </tr>\n",
       "  </thead>\n",
       "  <tbody>\n",
       "    <tr>\n",
       "      <th>0</th>\n",
       "      <td>False</td>\n",
       "      <td>False</td>\n",
       "      <td>False</td>\n",
       "      <td>True</td>\n",
       "      <td>False</td>\n",
       "      <td>False</td>\n",
       "      <td>False</td>\n",
       "      <td>False</td>\n",
       "      <td>False</td>\n",
       "      <td>False</td>\n",
       "      <td>False</td>\n",
       "      <td>False</td>\n",
       "    </tr>\n",
       "    <tr>\n",
       "      <th>1</th>\n",
       "      <td>False</td>\n",
       "      <td>False</td>\n",
       "      <td>False</td>\n",
       "      <td>False</td>\n",
       "      <td>False</td>\n",
       "      <td>False</td>\n",
       "      <td>False</td>\n",
       "      <td>False</td>\n",
       "      <td>False</td>\n",
       "      <td>False</td>\n",
       "      <td>False</td>\n",
       "      <td>False</td>\n",
       "    </tr>\n",
       "    <tr>\n",
       "      <th>2</th>\n",
       "      <td>False</td>\n",
       "      <td>False</td>\n",
       "      <td>False</td>\n",
       "      <td>False</td>\n",
       "      <td>False</td>\n",
       "      <td>False</td>\n",
       "      <td>False</td>\n",
       "      <td>False</td>\n",
       "      <td>False</td>\n",
       "      <td>False</td>\n",
       "      <td>False</td>\n",
       "      <td>False</td>\n",
       "    </tr>\n",
       "    <tr>\n",
       "      <th>3</th>\n",
       "      <td>False</td>\n",
       "      <td>False</td>\n",
       "      <td>False</td>\n",
       "      <td>False</td>\n",
       "      <td>False</td>\n",
       "      <td>False</td>\n",
       "      <td>False</td>\n",
       "      <td>False</td>\n",
       "      <td>False</td>\n",
       "      <td>False</td>\n",
       "      <td>False</td>\n",
       "      <td>False</td>\n",
       "    </tr>\n",
       "    <tr>\n",
       "      <th>4</th>\n",
       "      <td>False</td>\n",
       "      <td>False</td>\n",
       "      <td>False</td>\n",
       "      <td>False</td>\n",
       "      <td>False</td>\n",
       "      <td>False</td>\n",
       "      <td>False</td>\n",
       "      <td>False</td>\n",
       "      <td>False</td>\n",
       "      <td>False</td>\n",
       "      <td>False</td>\n",
       "      <td>False</td>\n",
       "    </tr>\n",
       "    <tr>\n",
       "      <th>...</th>\n",
       "      <td>...</td>\n",
       "      <td>...</td>\n",
       "      <td>...</td>\n",
       "      <td>...</td>\n",
       "      <td>...</td>\n",
       "      <td>...</td>\n",
       "      <td>...</td>\n",
       "      <td>...</td>\n",
       "      <td>...</td>\n",
       "      <td>...</td>\n",
       "      <td>...</td>\n",
       "      <td>...</td>\n",
       "    </tr>\n",
       "    <tr>\n",
       "      <th>7782</th>\n",
       "      <td>False</td>\n",
       "      <td>False</td>\n",
       "      <td>False</td>\n",
       "      <td>False</td>\n",
       "      <td>False</td>\n",
       "      <td>False</td>\n",
       "      <td>False</td>\n",
       "      <td>False</td>\n",
       "      <td>False</td>\n",
       "      <td>False</td>\n",
       "      <td>False</td>\n",
       "      <td>False</td>\n",
       "    </tr>\n",
       "    <tr>\n",
       "      <th>7783</th>\n",
       "      <td>False</td>\n",
       "      <td>False</td>\n",
       "      <td>False</td>\n",
       "      <td>False</td>\n",
       "      <td>False</td>\n",
       "      <td>False</td>\n",
       "      <td>False</td>\n",
       "      <td>False</td>\n",
       "      <td>False</td>\n",
       "      <td>False</td>\n",
       "      <td>False</td>\n",
       "      <td>False</td>\n",
       "    </tr>\n",
       "    <tr>\n",
       "      <th>7784</th>\n",
       "      <td>False</td>\n",
       "      <td>False</td>\n",
       "      <td>False</td>\n",
       "      <td>True</td>\n",
       "      <td>False</td>\n",
       "      <td>True</td>\n",
       "      <td>False</td>\n",
       "      <td>False</td>\n",
       "      <td>False</td>\n",
       "      <td>False</td>\n",
       "      <td>False</td>\n",
       "      <td>False</td>\n",
       "    </tr>\n",
       "    <tr>\n",
       "      <th>7785</th>\n",
       "      <td>False</td>\n",
       "      <td>False</td>\n",
       "      <td>False</td>\n",
       "      <td>True</td>\n",
       "      <td>False</td>\n",
       "      <td>False</td>\n",
       "      <td>False</td>\n",
       "      <td>False</td>\n",
       "      <td>False</td>\n",
       "      <td>False</td>\n",
       "      <td>False</td>\n",
       "      <td>False</td>\n",
       "    </tr>\n",
       "    <tr>\n",
       "      <th>7786</th>\n",
       "      <td>False</td>\n",
       "      <td>False</td>\n",
       "      <td>False</td>\n",
       "      <td>False</td>\n",
       "      <td>True</td>\n",
       "      <td>False</td>\n",
       "      <td>False</td>\n",
       "      <td>False</td>\n",
       "      <td>False</td>\n",
       "      <td>False</td>\n",
       "      <td>False</td>\n",
       "      <td>False</td>\n",
       "    </tr>\n",
       "  </tbody>\n",
       "</table>\n",
       "<p>7787 rows × 12 columns</p>\n",
       "</div>"
      ],
      "text/plain": [
       "      show_id   type  title  director   cast  country  date_added  \\\n",
       "0       False  False  False      True  False    False       False   \n",
       "1       False  False  False     False  False    False       False   \n",
       "2       False  False  False     False  False    False       False   \n",
       "3       False  False  False     False  False    False       False   \n",
       "4       False  False  False     False  False    False       False   \n",
       "...       ...    ...    ...       ...    ...      ...         ...   \n",
       "7782    False  False  False     False  False    False       False   \n",
       "7783    False  False  False     False  False    False       False   \n",
       "7784    False  False  False      True  False     True       False   \n",
       "7785    False  False  False      True  False    False       False   \n",
       "7786    False  False  False     False   True    False       False   \n",
       "\n",
       "      release_year  rating  duration  listed_in  description  \n",
       "0            False   False     False      False        False  \n",
       "1            False   False     False      False        False  \n",
       "2            False   False     False      False        False  \n",
       "3            False   False     False      False        False  \n",
       "4            False   False     False      False        False  \n",
       "...            ...     ...       ...        ...          ...  \n",
       "7782         False   False     False      False        False  \n",
       "7783         False   False     False      False        False  \n",
       "7784         False   False     False      False        False  \n",
       "7785         False   False     False      False        False  \n",
       "7786         False   False     False      False        False  \n",
       "\n",
       "[7787 rows x 12 columns]"
      ]
     },
     "execution_count": 10,
     "metadata": {},
     "output_type": "execute_result"
    }
   ],
   "source": [
    "data.isnull()  # To show where null value is present"
   ]
  },
  {
   "cell_type": "code",
   "execution_count": 11,
   "id": "d1c74c14-6208-43af-8cdb-5e9dac752a97",
   "metadata": {},
   "outputs": [
    {
     "data": {
      "text/plain": [
       "show_id            0\n",
       "type               0\n",
       "title              0\n",
       "director        2389\n",
       "cast             718\n",
       "country          507\n",
       "date_added        10\n",
       "release_year       0\n",
       "rating             7\n",
       "duration           0\n",
       "listed_in          0\n",
       "description        0\n",
       "dtype: int64"
      ]
     },
     "execution_count": 11,
     "metadata": {},
     "output_type": "execute_result"
    }
   ],
   "source": [
    "data.isnull().sum() # To show the count of null values in each columns"
   ]
  },
  {
   "cell_type": "code",
   "execution_count": 8,
   "id": "7a51d3cb-35af-496e-b736-84cc7ce0c135",
   "metadata": {},
   "outputs": [
    {
     "data": {
      "text/plain": [
       "<Axes: >"
      ]
     },
     "execution_count": 8,
     "metadata": {},
     "output_type": "execute_result"
    },
    {
     "data": {
      "image/png": "[encoded data removed]",
      "text/plain": [
       "<Figure size 640x480 with 2 Axes>"
      ]
     },
     "metadata": {},
     "output_type": "display_data"
    }
   ],
   "source": [
    "sns.heatmap(data.isnull())  #Show null values count using heatmap"
   ]
  },
  {
   "cell_type": "markdown",
   "id": "bb9ee778-7102-4d39-a17c-23f16fedc4cd",
   "metadata": {},
   "source": [
    "### Q1. For \"Kung Fu Panda: Holiday\", what is the show id and who is the director of the movie?"
   ]
  },
  {
   "cell_type": "code",
   "execution_count": 3,
   "id": "5541404d-b9e8-4bb4-b779-a3f9dcf4110f",
   "metadata": {},
   "outputs": [
    {
     "data": {
      "text/html": [
       "<div>\n",
       "<style scoped>\n",
       "    .dataframe tbody tr th:only-of-type {\n",
       "        vertical-align: middle;\n",
       "    }\n",
       "\n",
       "    .dataframe tbody tr th {\n",
       "        vertical-align: top;\n",
       "    }\n",
       "\n",
       "    .dataframe thead th {\n",
       "        text-align: right;\n",
       "    }\n",
       "</style>\n",
       "<table border=\"1\" class=\"dataframe\">\n",
       "  <thead>\n",
       "    <tr style=\"text-align: right;\">\n",
       "      <th></th>\n",
       "      <th>show_id</th>\n",
       "      <th>type</th>\n",
       "      <th>title</th>\n",
       "      <th>director</th>\n",
       "      <th>cast</th>\n",
       "      <th>country</th>\n",
       "      <th>date_added</th>\n",
       "      <th>release_year</th>\n",
       "      <th>rating</th>\n",
       "      <th>duration</th>\n",
       "      <th>listed_in</th>\n",
       "      <th>description</th>\n",
       "    </tr>\n",
       "  </thead>\n",
       "  <tbody>\n",
       "    <tr>\n",
       "      <th>3466</th>\n",
       "      <td>s3467</td>\n",
       "      <td>Movie</td>\n",
       "      <td>Kung Fu Panda: Holiday</td>\n",
       "      <td>Tim Johnson</td>\n",
       "      <td>Jack Black, Angelina Jolie, Dustin Hoffman, Ja...</td>\n",
       "      <td>United States</td>\n",
       "      <td>December 1, 2012</td>\n",
       "      <td>2010</td>\n",
       "      <td>TV-PG</td>\n",
       "      <td>26 min</td>\n",
       "      <td>Children &amp; Family Movies, Comedies</td>\n",
       "      <td>As preparations for the Winter Feast build, Po...</td>\n",
       "    </tr>\n",
       "  </tbody>\n",
       "</table>\n",
       "</div>"
      ],
      "text/plain": [
       "     show_id   type                   title     director  \\\n",
       "3466   s3467  Movie  Kung Fu Panda: Holiday  Tim Johnson   \n",
       "\n",
       "                                                   cast        country  \\\n",
       "3466  Jack Black, Angelina Jolie, Dustin Hoffman, Ja...  United States   \n",
       "\n",
       "            date_added  release_year rating duration  \\\n",
       "3466  December 1, 2012          2010  TV-PG   26 min   \n",
       "\n",
       "                               listed_in  \\\n",
       "3466  Children & Family Movies, Comedies   \n",
       "\n",
       "                                            description  \n",
       "3466  As preparations for the Winter Feast build, Po...  "
      ]
     },
     "execution_count": 3,
     "metadata": {},
     "output_type": "execute_result"
    }
   ],
   "source": [
    "data[data[\"title\"].isin([\"Kung Fu Panda: Holiday\"])] #To show all records of a perticular item in any column"
   ]
  },
  {
   "cell_type": "code",
   "execution_count": 4,
   "id": "b426ec4d-cdfd-4377-a096-4ffe646e55f5",
   "metadata": {},
   "outputs": [],
   "source": [
    "# The show id is s3467 and the director of the movie is Tim Johnson"
   ]
  },
  {
   "cell_type": "markdown",
   "id": "720f4bd1-1817-4903-b895-daadf68947b2",
   "metadata": {},
   "source": [
    "### Q2. In which year highest number of the TV shows and movies were released? Show with bar graph."
   ]
  },
  {
   "cell_type": "code",
   "execution_count": 5,
   "id": "f0006a23-5390-4cd9-8405-7ec478108ce3",
   "metadata": {},
   "outputs": [
    {
     "data": {
      "text/plain": [
       "show_id         object\n",
       "type            object\n",
       "title           object\n",
       "director        object\n",
       "cast            object\n",
       "country         object\n",
       "date_added      object\n",
       "release_year     int64\n",
       "rating          object\n",
       "duration        object\n",
       "listed_in       object\n",
       "description     object\n",
       "dtype: object"
      ]
     },
     "execution_count": 5,
     "metadata": {},
     "output_type": "execute_result"
    }
   ],
   "source": [
    "data.dtypes"
   ]
  },
  {
   "cell_type": "code",
   "execution_count": 6,
   "id": "fb0d3091-4594-4941-b898-49d9259d962f",
   "metadata": {},
   "outputs": [
    {
     "data": {
      "text/plain": [
       "show_id                 object\n",
       "type                    object\n",
       "title                   object\n",
       "director                object\n",
       "cast                    object\n",
       "country                 object\n",
       "date_added              object\n",
       "release_year             int64\n",
       "rating                  object\n",
       "duration                object\n",
       "listed_in               object\n",
       "description             object\n",
       "release         datetime64[ns]\n",
       "dtype: object"
      ]
     },
     "execution_count": 6,
     "metadata": {},
     "output_type": "execute_result"
    }
   ],
   "source": [
    "data[\"release\"]=pd.to_datetime(data[\"date_added\"],format='mixed')\n",
    "data.dtypes"
   ]
  },
  {
   "cell_type": "code",
   "execution_count": 24,
   "id": "155a95c0-a659-4370-ab09-674e694b494e",
   "metadata": {},
   "outputs": [
    {
     "data": {
      "text/plain": [
       "release\n",
       "2019.0    2153\n",
       "2020.0    2009\n",
       "2018.0    1685\n",
       "2017.0    1225\n",
       "2016.0     443\n",
       "2021.0     117\n",
       "2015.0      88\n",
       "2014.0      25\n",
       "2011.0      13\n",
       "2013.0      11\n",
       "2012.0       3\n",
       "2008.0       2\n",
       "2009.0       2\n",
       "2010.0       1\n",
       "Name: count, dtype: int64"
      ]
     },
     "execution_count": 24,
     "metadata": {},
     "output_type": "execute_result"
    }
   ],
   "source": [
    "data[\"release\"].dt.year.value_counts()  # it counts the occurrency of all individual years "
   ]
  },
  {
   "cell_type": "code",
   "execution_count": 28,
   "id": "ecec28c7-84aa-48b2-a96f-8c11bd33cd54",
   "metadata": {},
   "outputs": [
    {
     "data": {
      "text/plain": [
       "<Axes: xlabel='release'>"
      ]
     },
     "execution_count": 28,
     "metadata": {},
     "output_type": "execute_result"
    },
    {
     "data": {
      "image/png": "[encoded data removed]",
      "text/plain": [
       "<Figure size 640x480 with 1 Axes>"
      ]
     },
     "metadata": {},
     "output_type": "display_data"
    }
   ],
   "source": [
    "data[\"release\"].dt.year.value__counts().plot(kind=\"bar\")"
   ]
  },
  {
   "cell_type": "markdown",
   "id": "42699b60-97f2-4d3f-ae01-ea8cd12faed7",
   "metadata": {},
   "source": [
    "### Q3. How many movies and TV shows are in the dataset?"
   ]
  },
  {
   "cell_type": "code",
   "execution_count": 12,
   "id": "7b6f5e87-63d0-4f17-83c8-c7a1cdc841ac",
   "metadata": {},
   "outputs": [
    {
     "data": {
      "text/plain": [
       "type\n",
       "Movie      5377\n",
       "TV Show    2410\n",
       "Name: type, dtype: int64"
      ]
     },
     "execution_count": 12,
     "metadata": {},
     "output_type": "execute_result"
    }
   ],
   "source": [
    "data.groupby(\"type\").type.count()  # To group all unique items of a column and show their count"
   ]
  },
  {
   "cell_type": "code",
   "execution_count": 13,
   "id": "f665acab-9e9b-40c2-91fa-4df9fbbeb5b1",
   "metadata": {},
   "outputs": [
    {
     "data": {
      "text/plain": [
       "<Axes: xlabel='type', ylabel='count'>"
      ]
     },
     "execution_count": 13,
     "metadata": {},
     "output_type": "execute_result"
    },
    {
     "data": {
      "image/png": "[encoded data removed]",
      "text/plain": [
       "<Figure size 640x480 with 1 Axes>"
      ]
     },
     "metadata": {},
     "output_type": "display_data"
    }
   ],
   "source": [
    "sns.countplot(x=data[\"type\"]) "
   ]
  },
  {
   "cell_type": "markdown",
   "id": "21617c8e-e9d0-4b58-8de8-b465c76c77cf",
   "metadata": {},
   "source": [
    "### Q4. Show all the movies that were released in year 2010"
   ]
  },
  {
   "cell_type": "code",
   "execution_count": 13,
   "id": "440bd6dd-6cd9-4055-bf38-4a5957321b1b",
   "metadata": {},
   "outputs": [
    {
     "data": {
      "text/html": [
       "<div>\n",
       "<style scoped>\n",
       "    .dataframe tbody tr th:only-of-type {\n",
       "        vertical-align: middle;\n",
       "    }\n",
       "\n",
       "    .dataframe tbody tr th {\n",
       "        vertical-align: top;\n",
       "    }\n",
       "\n",
       "    .dataframe thead th {\n",
       "        text-align: right;\n",
       "    }\n",
       "</style>\n",
       "<table border=\"1\" class=\"dataframe\">\n",
       "  <thead>\n",
       "    <tr style=\"text-align: right;\">\n",
       "      <th></th>\n",
       "      <th>show_id</th>\n",
       "      <th>type</th>\n",
       "      <th>title</th>\n",
       "      <th>director</th>\n",
       "      <th>cast</th>\n",
       "      <th>country</th>\n",
       "      <th>date_added</th>\n",
       "      <th>release_year</th>\n",
       "      <th>rating</th>\n",
       "      <th>duration</th>\n",
       "      <th>listed_in</th>\n",
       "      <th>description</th>\n",
       "      <th>release</th>\n",
       "    </tr>\n",
       "  </thead>\n",
       "  <tbody>\n",
       "    <tr>\n",
       "      <th>42</th>\n",
       "      <td>s43</td>\n",
       "      <td>Movie</td>\n",
       "      <td>Çok Filim Hareketler Bunlar</td>\n",
       "      <td>Ozan Açıktan</td>\n",
       "      <td>Ayça Erturan, Aydan Taş, Ayşegül Akdemir, Burc...</td>\n",
       "      <td>Turkey</td>\n",
       "      <td>March 10, 2017</td>\n",
       "      <td>2010</td>\n",
       "      <td>TV-MA</td>\n",
       "      <td>99 min</td>\n",
       "      <td>Comedies, International Movies</td>\n",
       "      <td>Vignettes of the summer holidays follow vacati...</td>\n",
       "      <td>2017-03-10</td>\n",
       "    </tr>\n",
       "    <tr>\n",
       "      <th>68</th>\n",
       "      <td>s69</td>\n",
       "      <td>Movie</td>\n",
       "      <td>14 Blades</td>\n",
       "      <td>Daniel Lee</td>\n",
       "      <td>Donnie Yen, Zhao Wei, Wu Chun, Law Kar-Ying, K...</td>\n",
       "      <td>Hong Kong, China, Singapore</td>\n",
       "      <td>April 3, 2019</td>\n",
       "      <td>2010</td>\n",
       "      <td>R</td>\n",
       "      <td>113 min</td>\n",
       "      <td>Action &amp; Adventure, International Movies</td>\n",
       "      <td>In the age of the Ming Dynasty, Quinglong is t...</td>\n",
       "      <td>2019-04-03</td>\n",
       "    </tr>\n",
       "    <tr>\n",
       "      <th>272</th>\n",
       "      <td>s273</td>\n",
       "      <td>Movie</td>\n",
       "      <td>Aashayein</td>\n",
       "      <td>Nagesh Kukunoor</td>\n",
       "      <td>John Abraham, Sonal Sehgal, Prateeksha Lonkar,...</td>\n",
       "      <td>India</td>\n",
       "      <td>October 22, 2017</td>\n",
       "      <td>2010</td>\n",
       "      <td>TV-14</td>\n",
       "      <td>115 min</td>\n",
       "      <td>Dramas, International Movies</td>\n",
       "      <td>When he learns he has terminal cancer, a cynic...</td>\n",
       "      <td>2017-10-22</td>\n",
       "    </tr>\n",
       "    <tr>\n",
       "      <th>274</th>\n",
       "      <td>s275</td>\n",
       "      <td>Movie</td>\n",
       "      <td>Aata Pita</td>\n",
       "      <td>Uttung Shelar</td>\n",
       "      <td>Sanjay Narvekar, Bharat Jadhav, Satish Phuleka...</td>\n",
       "      <td>India</td>\n",
       "      <td>January 1, 2018</td>\n",
       "      <td>2010</td>\n",
       "      <td>TV-14</td>\n",
       "      <td>133 min</td>\n",
       "      <td>Comedies, Dramas, International Movies</td>\n",
       "      <td>A municipal clerk with literary ambitions stal...</td>\n",
       "      <td>2018-01-01</td>\n",
       "    </tr>\n",
       "    <tr>\n",
       "      <th>299</th>\n",
       "      <td>s300</td>\n",
       "      <td>Movie</td>\n",
       "      <td>Act of Vengeance</td>\n",
       "      <td>Mahsun Kırmızıgül</td>\n",
       "      <td>Haluk Bilginer, Mahsun Kırmızıgül, Mustafa San...</td>\n",
       "      <td>Turkey, United States</td>\n",
       "      <td>September 29, 2018</td>\n",
       "      <td>2010</td>\n",
       "      <td>NR</td>\n",
       "      <td>112 min</td>\n",
       "      <td>Action &amp; Adventure, International Movies</td>\n",
       "      <td>Two Turkish agents are sent to New York City o...</td>\n",
       "      <td>2018-09-29</td>\n",
       "    </tr>\n",
       "    <tr>\n",
       "      <th>...</th>\n",
       "      <td>...</td>\n",
       "      <td>...</td>\n",
       "      <td>...</td>\n",
       "      <td>...</td>\n",
       "      <td>...</td>\n",
       "      <td>...</td>\n",
       "      <td>...</td>\n",
       "      <td>...</td>\n",
       "      <td>...</td>\n",
       "      <td>...</td>\n",
       "      <td>...</td>\n",
       "      <td>...</td>\n",
       "      <td>...</td>\n",
       "    </tr>\n",
       "    <tr>\n",
       "      <th>7459</th>\n",
       "      <td>s7460</td>\n",
       "      <td>Movie</td>\n",
       "      <td>Waiting for \"Superman\"</td>\n",
       "      <td>Davis Guggenheim</td>\n",
       "      <td>NaN</td>\n",
       "      <td>United States</td>\n",
       "      <td>September 7, 2020</td>\n",
       "      <td>2010</td>\n",
       "      <td>PG</td>\n",
       "      <td>111 min</td>\n",
       "      <td>Documentaries</td>\n",
       "      <td>This dynamic documentary weaves together stori...</td>\n",
       "      <td>2020-09-07</td>\n",
       "    </tr>\n",
       "    <tr>\n",
       "      <th>7496</th>\n",
       "      <td>s7497</td>\n",
       "      <td>Movie</td>\n",
       "      <td>We Are Family</td>\n",
       "      <td>Sidharth Malhotra</td>\n",
       "      <td>Kajol, Kareena Kapoor, Arjun Rampal, Nominath ...</td>\n",
       "      <td>India, Australia</td>\n",
       "      <td>October 1, 2018</td>\n",
       "      <td>2010</td>\n",
       "      <td>TV-14</td>\n",
       "      <td>119 min</td>\n",
       "      <td>Dramas, International Movies</td>\n",
       "      <td>A divorced mother of three children runs a hap...</td>\n",
       "      <td>2018-10-01</td>\n",
       "    </tr>\n",
       "    <tr>\n",
       "      <th>7604</th>\n",
       "      <td>s7605</td>\n",
       "      <td>Movie</td>\n",
       "      <td>Whitney Cummings: Money Shot</td>\n",
       "      <td>John Fortenberry</td>\n",
       "      <td>Whitney Cummings</td>\n",
       "      <td>United States</td>\n",
       "      <td>January 1, 2019</td>\n",
       "      <td>2010</td>\n",
       "      <td>TV-MA</td>\n",
       "      <td>48 min</td>\n",
       "      <td>Stand-Up Comedy</td>\n",
       "      <td>Comedy Central roast veteran Whitney Cummings ...</td>\n",
       "      <td>2019-01-01</td>\n",
       "    </tr>\n",
       "    <tr>\n",
       "      <th>7638</th>\n",
       "      <td>s7639</td>\n",
       "      <td>Movie</td>\n",
       "      <td>Winter's Bone</td>\n",
       "      <td>Debra Granik</td>\n",
       "      <td>Jennifer Lawrence, John Hawkes, Kevin Breznaha...</td>\n",
       "      <td>United States</td>\n",
       "      <td>March 1, 2019</td>\n",
       "      <td>2010</td>\n",
       "      <td>R</td>\n",
       "      <td>100 min</td>\n",
       "      <td>Dramas, Independent Movies</td>\n",
       "      <td>In this unflinching noir drama, a resilient te...</td>\n",
       "      <td>2019-03-01</td>\n",
       "    </tr>\n",
       "    <tr>\n",
       "      <th>7706</th>\n",
       "      <td>s7707</td>\n",
       "      <td>Movie</td>\n",
       "      <td>Yes or No</td>\n",
       "      <td>Saratswadee Wongsomphet</td>\n",
       "      <td>Sushar Manaying, Supanart Jittaleela, Arisara ...</td>\n",
       "      <td>Thailand</td>\n",
       "      <td>December 6, 2018</td>\n",
       "      <td>2010</td>\n",
       "      <td>TV-PG</td>\n",
       "      <td>111 min</td>\n",
       "      <td>International Movies, LGBTQ Movies, Romantic M...</td>\n",
       "      <td>Traditional girl Pie is initially uncomfortabl...</td>\n",
       "      <td>2018-12-06</td>\n",
       "    </tr>\n",
       "  </tbody>\n",
       "</table>\n",
       "<p>136 rows × 13 columns</p>\n",
       "</div>"
      ],
      "text/plain": [
       "     show_id   type                         title                 director  \\\n",
       "42       s43  Movie   Çok Filim Hareketler Bunlar             Ozan Açıktan   \n",
       "68       s69  Movie                     14 Blades               Daniel Lee   \n",
       "272     s273  Movie                     Aashayein          Nagesh Kukunoor   \n",
       "274     s275  Movie                     Aata Pita            Uttung Shelar   \n",
       "299     s300  Movie              Act of Vengeance        Mahsun Kırmızıgül   \n",
       "...      ...    ...                           ...                      ...   \n",
       "7459   s7460  Movie        Waiting for \"Superman\"         Davis Guggenheim   \n",
       "7496   s7497  Movie                 We Are Family        Sidharth Malhotra   \n",
       "7604   s7605  Movie  Whitney Cummings: Money Shot         John Fortenberry   \n",
       "7638   s7639  Movie                 Winter's Bone             Debra Granik   \n",
       "7706   s7707  Movie                     Yes or No  Saratswadee Wongsomphet   \n",
       "\n",
       "                                                   cast  \\\n",
       "42    Ayça Erturan, Aydan Taş, Ayşegül Akdemir, Burc...   \n",
       "68    Donnie Yen, Zhao Wei, Wu Chun, Law Kar-Ying, K...   \n",
       "272   John Abraham, Sonal Sehgal, Prateeksha Lonkar,...   \n",
       "274   Sanjay Narvekar, Bharat Jadhav, Satish Phuleka...   \n",
       "299   Haluk Bilginer, Mahsun Kırmızıgül, Mustafa San...   \n",
       "...                                                 ...   \n",
       "7459                                                NaN   \n",
       "7496  Kajol, Kareena Kapoor, Arjun Rampal, Nominath ...   \n",
       "7604                                   Whitney Cummings   \n",
       "7638  Jennifer Lawrence, John Hawkes, Kevin Breznaha...   \n",
       "7706  Sushar Manaying, Supanart Jittaleela, Arisara ...   \n",
       "\n",
       "                          country          date_added  release_year rating  \\\n",
       "42                         Turkey      March 10, 2017          2010  TV-MA   \n",
       "68    Hong Kong, China, Singapore       April 3, 2019          2010      R   \n",
       "272                         India    October 22, 2017          2010  TV-14   \n",
       "274                         India     January 1, 2018          2010  TV-14   \n",
       "299         Turkey, United States  September 29, 2018          2010     NR   \n",
       "...                           ...                 ...           ...    ...   \n",
       "7459                United States   September 7, 2020          2010     PG   \n",
       "7496             India, Australia     October 1, 2018          2010  TV-14   \n",
       "7604                United States     January 1, 2019          2010  TV-MA   \n",
       "7638                United States       March 1, 2019          2010      R   \n",
       "7706                     Thailand    December 6, 2018          2010  TV-PG   \n",
       "\n",
       "     duration                                          listed_in  \\\n",
       "42     99 min                     Comedies, International Movies   \n",
       "68    113 min           Action & Adventure, International Movies   \n",
       "272   115 min                       Dramas, International Movies   \n",
       "274   133 min             Comedies, Dramas, International Movies   \n",
       "299   112 min           Action & Adventure, International Movies   \n",
       "...       ...                                                ...   \n",
       "7459  111 min                                      Documentaries   \n",
       "7496  119 min                       Dramas, International Movies   \n",
       "7604   48 min                                    Stand-Up Comedy   \n",
       "7638  100 min                         Dramas, Independent Movies   \n",
       "7706  111 min  International Movies, LGBTQ Movies, Romantic M...   \n",
       "\n",
       "                                            description    release  \n",
       "42    Vignettes of the summer holidays follow vacati... 2017-03-10  \n",
       "68    In the age of the Ming Dynasty, Quinglong is t... 2019-04-03  \n",
       "272   When he learns he has terminal cancer, a cynic... 2017-10-22  \n",
       "274   A municipal clerk with literary ambitions stal... 2018-01-01  \n",
       "299   Two Turkish agents are sent to New York City o... 2018-09-29  \n",
       "...                                                 ...        ...  \n",
       "7459  This dynamic documentary weaves together stori... 2020-09-07  \n",
       "7496  A divorced mother of three children runs a hap... 2018-10-01  \n",
       "7604  Comedy Central roast veteran Whitney Cummings ... 2019-01-01  \n",
       "7638  In this unflinching noir drama, a resilient te... 2019-03-01  \n",
       "7706  Traditional girl Pie is initially uncomfortabl... 2018-12-06  \n",
       "\n",
       "[136 rows x 13 columns]"
      ]
     },
     "execution_count": 13,
     "metadata": {},
     "output_type": "execute_result"
    }
   ],
   "source": [
    "data[(data[\"type\"]==\"Movie\") & (data[\"release_year\"]==2010)]"
   ]
  },
  {
   "cell_type": "markdown",
   "id": "18c23dc2-af7a-43c0-b4c7-506f30d89fe0",
   "metadata": {},
   "source": [
    "### Q5. Show only the Titles of all TVshows that were released in India only"
   ]
  },
  {
   "cell_type": "code",
   "execution_count": 18,
   "id": "f5fd32ce-6398-4d90-a6e6-9fe5af9f3a5e",
   "metadata": {},
   "outputs": [
    {
     "data": {
      "text/plain": [
       "86            21 Sarfarosh: Saragarhi 1897\n",
       "132                              7 (Seven)\n",
       "340                           Agent Raghav\n",
       "364                           Akbar Birbal\n",
       "533                    Anjaan: Rural Myths\n",
       "                       ...                \n",
       "6248                  The Creative Indians\n",
       "6398    The Golden Years with Javed Akhtar\n",
       "6467                The House That Made Me\n",
       "7292                            Typewriter\n",
       "7703                       Yeh Meri Family\n",
       "Name: title, Length: 71, dtype: object"
      ]
     },
     "execution_count": 18,
     "metadata": {},
     "output_type": "execute_result"
    }
   ],
   "source": [
    "data[(data[\"type\"]==\"TV Show\") & (data[\"country\"]==\"India\")] [\"title\"]"
   ]
  },
  {
   "cell_type": "markdown",
   "id": "2562847f-f16d-4d58-a3ef-71c1fec766c5",
   "metadata": {},
   "source": [
    "### Q6. Show top 10 directors,who gave the highest number of TV shows and Movies to Netflix"
   ]
  },
  {
   "cell_type": "code",
   "execution_count": 22,
   "id": "99c1f1f4-8899-4367-83ab-c2563d4f0683",
   "metadata": {},
   "outputs": [
    {
     "data": {
      "text/plain": [
       "director\n",
       "Raúl Campos, Jan Suter    18\n",
       "Marcus Raboy              16\n",
       "Jay Karas                 14\n",
       "Cathy Garcia-Molina       13\n",
       "Youssef Chahine           12\n",
       "Martin Scorsese           12\n",
       "Jay Chapman               12\n",
       "Steven Spielberg          10\n",
       "David Dhawan               9\n",
       "Ryan Polito                8\n",
       "Name: count, dtype: int64"
      ]
     },
     "execution_count": 22,
     "metadata": {},
     "output_type": "execute_result"
    }
   ],
   "source": [
    "data[\"director\"].value_counts().head(10)"
   ]
  },
  {
   "cell_type": "markdown",
   "id": "3bc77cd6-c3bf-4f59-b45d-add897255831",
   "metadata": {},
   "source": [
    "### Q7. In how many movies/shows, Tom Cruise was cast?"
   ]
  },
  {
   "cell_type": "code",
   "execution_count": 19,
   "id": "7fc66dff-6352-4c2e-86d3-bd13ceb76b6d",
   "metadata": {},
   "outputs": [
    {
     "data": {
      "text/html": [
       "<div>\n",
       "<style scoped>\n",
       "    .dataframe tbody tr th:only-of-type {\n",
       "        vertical-align: middle;\n",
       "    }\n",
       "\n",
       "    .dataframe tbody tr th {\n",
       "        vertical-align: top;\n",
       "    }\n",
       "\n",
       "    .dataframe thead th {\n",
       "        text-align: right;\n",
       "    }\n",
       "</style>\n",
       "<table border=\"1\" class=\"dataframe\">\n",
       "  <thead>\n",
       "    <tr style=\"text-align: right;\">\n",
       "      <th></th>\n",
       "      <th>show_id</th>\n",
       "      <th>type</th>\n",
       "      <th>title</th>\n",
       "      <th>director</th>\n",
       "      <th>cast</th>\n",
       "      <th>country</th>\n",
       "      <th>date_added</th>\n",
       "      <th>release_year</th>\n",
       "      <th>rating</th>\n",
       "      <th>duration</th>\n",
       "      <th>listed_in</th>\n",
       "      <th>description</th>\n",
       "      <th>release</th>\n",
       "    </tr>\n",
       "  </thead>\n",
       "  <tbody>\n",
       "    <tr>\n",
       "      <th>3860</th>\n",
       "      <td>s3861</td>\n",
       "      <td>Movie</td>\n",
       "      <td>Magnolia</td>\n",
       "      <td>Paul Thomas Anderson</td>\n",
       "      <td>Jeremy Blackman, Tom Cruise, Melinda Dillon, A...</td>\n",
       "      <td>United States</td>\n",
       "      <td>January 1, 2020</td>\n",
       "      <td>1999</td>\n",
       "      <td>R</td>\n",
       "      <td>189 min</td>\n",
       "      <td>Dramas, Independent Movies</td>\n",
       "      <td>Through chance, human action, past history and...</td>\n",
       "      <td>2020-01-01</td>\n",
       "    </tr>\n",
       "    <tr>\n",
       "      <th>5070</th>\n",
       "      <td>s5071</td>\n",
       "      <td>Movie</td>\n",
       "      <td>Rain Man</td>\n",
       "      <td>Barry Levinson</td>\n",
       "      <td>Dustin Hoffman, Tom Cruise, Valeria Golino, Ge...</td>\n",
       "      <td>United States</td>\n",
       "      <td>July 1, 2019</td>\n",
       "      <td>1988</td>\n",
       "      <td>R</td>\n",
       "      <td>134 min</td>\n",
       "      <td>Classic Movies, Dramas</td>\n",
       "      <td>A fast-talking yuppie is forced to slow down w...</td>\n",
       "      <td>2019-07-01</td>\n",
       "    </tr>\n",
       "  </tbody>\n",
       "</table>\n",
       "</div>"
      ],
      "text/plain": [
       "     show_id   type     title              director  \\\n",
       "3860   s3861  Movie  Magnolia  Paul Thomas Anderson   \n",
       "5070   s5071  Movie  Rain Man        Barry Levinson   \n",
       "\n",
       "                                                   cast        country  \\\n",
       "3860  Jeremy Blackman, Tom Cruise, Melinda Dillon, A...  United States   \n",
       "5070  Dustin Hoffman, Tom Cruise, Valeria Golino, Ge...  United States   \n",
       "\n",
       "           date_added  release_year rating duration  \\\n",
       "3860  January 1, 2020          1999      R  189 min   \n",
       "5070     July 1, 2019          1988      R  134 min   \n",
       "\n",
       "                       listed_in  \\\n",
       "3860  Dramas, Independent Movies   \n",
       "5070      Classic Movies, Dramas   \n",
       "\n",
       "                                            description    release  \n",
       "3860  Through chance, human action, past history and... 2020-01-01  \n",
       "5070  A fast-talking yuppie is forced to slow down w... 2019-07-01  "
      ]
     },
     "execution_count": 19,
     "metadata": {},
     "output_type": "execute_result"
    }
   ],
   "source": [
    "#creating new dataframe\n",
    "data_new=data.dropna()   # it drops the rows that contains all or any missing values\n",
    "\n",
    "data_new[data_new[\"cast\"].str.contains(\"Tom Cruise\")]"
   ]
  },
  {
   "cell_type": "code",
   "execution_count": null,
   "id": "cb66d2d1-9bc6-444e-8025-412e2af61d34",
   "metadata": {},
   "outputs": [],
   "source": [
    "# In two movies"
   ]
  },
  {
   "cell_type": "markdown",
   "id": "c9b6dcad-b0f2-468e-b969-59a122642b52",
   "metadata": {},
   "source": [
    "### Q8. What are the different ratings defined by Netflix"
   ]
  },
  {
   "cell_type": "code",
   "execution_count": 34,
   "id": "0dac58bd-b92a-427d-bfb6-614a9138503e",
   "metadata": {},
   "outputs": [
    {
     "data": {
      "text/plain": [
       "14"
      ]
     },
     "execution_count": 34,
     "metadata": {},
     "output_type": "execute_result"
    }
   ],
   "source": [
    "data[\"rating\"].nunique()  # to see how many unique values are there(the number of unique values)"
   ]
  },
  {
   "cell_type": "code",
   "execution_count": 35,
   "id": "a0e14bd3-4e45-4acd-8bc7-34c5f6efb9d8",
   "metadata": {},
   "outputs": [
    {
     "data": {
      "text/plain": [
       "array(['TV-MA', 'R', 'PG-13', 'TV-14', 'TV-PG', 'NR', 'TV-G', 'TV-Y', nan,\n",
       "       'TV-Y7', 'PG', 'G', 'NC-17', 'TV-Y7-FV', 'UR'], dtype=object)"
      ]
     },
     "execution_count": 35,
     "metadata": {},
     "output_type": "execute_result"
    }
   ],
   "source": [
    "data[\"rating\"].unique()   #to see the name of the unique values"
   ]
  },
  {
   "cell_type": "markdown",
   "id": "64c61c2b-8a77-4998-9638-e11c8d5a5991",
   "metadata": {},
   "source": [
    "### Q9. How many Netflix Movies got the \"PG-13\" rating in India?"
   ]
  },
  {
   "cell_type": "code",
   "execution_count": 20,
   "id": "ee61f41b-86e4-42fc-9452-684faa162d2f",
   "metadata": {},
   "outputs": [
    {
     "data": {
      "text/html": [
       "<div>\n",
       "<style scoped>\n",
       "    .dataframe tbody tr th:only-of-type {\n",
       "        vertical-align: middle;\n",
       "    }\n",
       "\n",
       "    .dataframe tbody tr th {\n",
       "        vertical-align: top;\n",
       "    }\n",
       "\n",
       "    .dataframe thead th {\n",
       "        text-align: right;\n",
       "    }\n",
       "</style>\n",
       "<table border=\"1\" class=\"dataframe\">\n",
       "  <thead>\n",
       "    <tr style=\"text-align: right;\">\n",
       "      <th></th>\n",
       "      <th>show_id</th>\n",
       "      <th>type</th>\n",
       "      <th>title</th>\n",
       "      <th>director</th>\n",
       "      <th>cast</th>\n",
       "      <th>country</th>\n",
       "      <th>date_added</th>\n",
       "      <th>release_year</th>\n",
       "      <th>rating</th>\n",
       "      <th>duration</th>\n",
       "      <th>listed_in</th>\n",
       "      <th>description</th>\n",
       "      <th>release</th>\n",
       "    </tr>\n",
       "  </thead>\n",
       "  <tbody>\n",
       "    <tr>\n",
       "      <th>100</th>\n",
       "      <td>s101</td>\n",
       "      <td>Movie</td>\n",
       "      <td>3 Idiots</td>\n",
       "      <td>Rajkumar Hirani</td>\n",
       "      <td>Aamir Khan, Kareena Kapoor, Madhavan, Sharman ...</td>\n",
       "      <td>India</td>\n",
       "      <td>August 1, 2019</td>\n",
       "      <td>2009</td>\n",
       "      <td>PG-13</td>\n",
       "      <td>164 min</td>\n",
       "      <td>Comedies, Dramas, International Movies</td>\n",
       "      <td>While attending one of India's premier college...</td>\n",
       "      <td>2019-08-01</td>\n",
       "    </tr>\n",
       "    <tr>\n",
       "      <th>4264</th>\n",
       "      <td>s4265</td>\n",
       "      <td>Movie</td>\n",
       "      <td>Mubarakan</td>\n",
       "      <td>Anees Bazmee</td>\n",
       "      <td>Anil Kapoor, Arjun Kapoor, Ileana D'Cruz, Athi...</td>\n",
       "      <td>India</td>\n",
       "      <td>November 5, 2017</td>\n",
       "      <td>2017</td>\n",
       "      <td>PG-13</td>\n",
       "      <td>153 min</td>\n",
       "      <td>Comedies, Dramas, International Movies</td>\n",
       "      <td>Chaos ensues after two orphaned twin brothers ...</td>\n",
       "      <td>2017-11-05</td>\n",
       "    </tr>\n",
       "    <tr>\n",
       "      <th>4733</th>\n",
       "      <td>s4734</td>\n",
       "      <td>Movie</td>\n",
       "      <td>Pad Man</td>\n",
       "      <td>R. Balki</td>\n",
       "      <td>Akshay Kumar, Sonam Kapoor, Radhika Apte, Jyot...</td>\n",
       "      <td>India</td>\n",
       "      <td>August 21, 2018</td>\n",
       "      <td>2018</td>\n",
       "      <td>PG-13</td>\n",
       "      <td>130 min</td>\n",
       "      <td>Dramas, International Movies, Romantic Movies</td>\n",
       "      <td>Despite public humiliation and resistance, an ...</td>\n",
       "      <td>2018-08-21</td>\n",
       "    </tr>\n",
       "    <tr>\n",
       "      <th>4920</th>\n",
       "      <td>s4921</td>\n",
       "      <td>Movie</td>\n",
       "      <td>Poster Boys</td>\n",
       "      <td>Shreyas Talpade</td>\n",
       "      <td>Sunny Deol, Bobby Deol, Shreyas Talpade, Sonal...</td>\n",
       "      <td>India</td>\n",
       "      <td>November 27, 2017</td>\n",
       "      <td>2017</td>\n",
       "      <td>PG-13</td>\n",
       "      <td>128 min</td>\n",
       "      <td>Comedies, International Movies</td>\n",
       "      <td>Three men are stunned to find their faces on a...</td>\n",
       "      <td>2017-11-27</td>\n",
       "    </tr>\n",
       "  </tbody>\n",
       "</table>\n",
       "</div>"
      ],
      "text/plain": [
       "     show_id   type        title         director  \\\n",
       "100     s101  Movie     3 Idiots  Rajkumar Hirani   \n",
       "4264   s4265  Movie    Mubarakan     Anees Bazmee   \n",
       "4733   s4734  Movie      Pad Man         R. Balki   \n",
       "4920   s4921  Movie  Poster Boys  Shreyas Talpade   \n",
       "\n",
       "                                                   cast country  \\\n",
       "100   Aamir Khan, Kareena Kapoor, Madhavan, Sharman ...   India   \n",
       "4264  Anil Kapoor, Arjun Kapoor, Ileana D'Cruz, Athi...   India   \n",
       "4733  Akshay Kumar, Sonam Kapoor, Radhika Apte, Jyot...   India   \n",
       "4920  Sunny Deol, Bobby Deol, Shreyas Talpade, Sonal...   India   \n",
       "\n",
       "             date_added  release_year rating duration  \\\n",
       "100      August 1, 2019          2009  PG-13  164 min   \n",
       "4264   November 5, 2017          2017  PG-13  153 min   \n",
       "4733    August 21, 2018          2018  PG-13  130 min   \n",
       "4920  November 27, 2017          2017  PG-13  128 min   \n",
       "\n",
       "                                          listed_in  \\\n",
       "100          Comedies, Dramas, International Movies   \n",
       "4264         Comedies, Dramas, International Movies   \n",
       "4733  Dramas, International Movies, Romantic Movies   \n",
       "4920                 Comedies, International Movies   \n",
       "\n",
       "                                            description    release  \n",
       "100   While attending one of India's premier college... 2019-08-01  \n",
       "4264  Chaos ensues after two orphaned twin brothers ... 2017-11-05  \n",
       "4733  Despite public humiliation and resistance, an ... 2018-08-21  \n",
       "4920  Three men are stunned to find their faces on a... 2017-11-27  "
      ]
     },
     "execution_count": 20,
     "metadata": {},
     "output_type": "execute_result"
    }
   ],
   "source": [
    "data[(data[\"type\"]==\"Movie\") & (data[\"rating\"]==\"PG-13\") & (data[\"country\"]==\"India\")]"
   ]
  },
  {
   "cell_type": "code",
   "execution_count": null,
   "id": "2b7e6ac2-7bf0-43bc-8a89-5536a3924557",
   "metadata": {},
   "outputs": [],
   "source": [
    "# There are 4 movies."
   ]
  },
  {
   "cell_type": "markdown",
   "id": "ffdeda89-38b3-4331-af0d-1bdd46c3f412",
   "metadata": {},
   "source": [
    "### Q10. How many TV shows got the \"R\" rating after year 2015?"
   ]
  },
  {
   "cell_type": "code",
   "execution_count": 34,
   "id": "c1f02b10-c921-4548-8c75-d8bf288dc842",
   "metadata": {},
   "outputs": [
    {
     "data": {
      "text/html": [
       "<div>\n",
       "<style scoped>\n",
       "    .dataframe tbody tr th:only-of-type {\n",
       "        vertical-align: middle;\n",
       "    }\n",
       "\n",
       "    .dataframe tbody tr th {\n",
       "        vertical-align: top;\n",
       "    }\n",
       "\n",
       "    .dataframe thead th {\n",
       "        text-align: right;\n",
       "    }\n",
       "</style>\n",
       "<table border=\"1\" class=\"dataframe\">\n",
       "  <thead>\n",
       "    <tr style=\"text-align: right;\">\n",
       "      <th></th>\n",
       "      <th>show_id</th>\n",
       "      <th>type</th>\n",
       "      <th>title</th>\n",
       "      <th>director</th>\n",
       "      <th>cast</th>\n",
       "      <th>country</th>\n",
       "      <th>date_added</th>\n",
       "      <th>release_year</th>\n",
       "      <th>rating</th>\n",
       "      <th>duration</th>\n",
       "      <th>listed_in</th>\n",
       "      <th>description</th>\n",
       "      <th>release</th>\n",
       "    </tr>\n",
       "  </thead>\n",
       "  <tbody>\n",
       "    <tr>\n",
       "      <th>4497</th>\n",
       "      <td>s4498</td>\n",
       "      <td>TV Show</td>\n",
       "      <td>Nobel</td>\n",
       "      <td>NaN</td>\n",
       "      <td>Aksel Hennie, Tuva Novotny, Anders Danielsen L...</td>\n",
       "      <td>Norway</td>\n",
       "      <td>December 10, 2016</td>\n",
       "      <td>2016</td>\n",
       "      <td>R</td>\n",
       "      <td>1 Season</td>\n",
       "      <td>International TV Shows, TV Dramas, TV Thrillers</td>\n",
       "      <td>A series of incidents in Afghanistan set compl...</td>\n",
       "      <td>2016-12-10</td>\n",
       "    </tr>\n",
       "  </tbody>\n",
       "</table>\n",
       "</div>"
      ],
      "text/plain": [
       "     show_id     type  title director  \\\n",
       "4497   s4498  TV Show  Nobel      NaN   \n",
       "\n",
       "                                                   cast country  \\\n",
       "4497  Aksel Hennie, Tuva Novotny, Anders Danielsen L...  Norway   \n",
       "\n",
       "             date_added  release_year rating  duration  \\\n",
       "4497  December 10, 2016          2016      R  1 Season   \n",
       "\n",
       "                                            listed_in  \\\n",
       "4497  International TV Shows, TV Dramas, TV Thrillers   \n",
       "\n",
       "                                            description    release  \n",
       "4497  A series of incidents in Afghanistan set compl... 2016-12-10  "
      ]
     },
     "execution_count": 34,
     "metadata": {},
     "output_type": "execute_result"
    }
   ],
   "source": [
    "data[(data[\"type\"]==\"TV Show\") & (data[\"rating\"]==\"R\") & (data[\"release_year\"]>2015)]"
   ]
  },
  {
   "cell_type": "code",
   "execution_count": 35,
   "id": "cc7ada74-c1d2-42aa-9825-c5acd06d275d",
   "metadata": {},
   "outputs": [],
   "source": [
    "# Only one TV show got the \"R\" rating after year 2015"
   ]
  },
  {
   "cell_type": "markdown",
   "id": "dcf272e2-ba49-4e1c-9303-17c48f1fdf14",
   "metadata": {},
   "source": [
    "### Q11. Which individual country has the highest no. of TV shows?"
   ]
  },
  {
   "cell_type": "code",
   "execution_count": 78,
   "id": "dfb0f4d8-5278-414f-982b-ae1777833dae",
   "metadata": {},
   "outputs": [],
   "source": [
    "data_tvshow=data[data[\"type\"]==\"TV Show\"]"
   ]
  },
  {
   "cell_type": "code",
   "execution_count": 84,
   "id": "8ec8d1c7-050d-436a-aa2e-27e54b272a67",
   "metadata": {},
   "outputs": [
    {
     "data": {
      "text/plain": [
       "country\n",
       "United States    705\n",
       "Name: count, dtype: int64"
      ]
     },
     "execution_count": 84,
     "metadata": {},
     "output_type": "execute_result"
    }
   ],
   "source": [
    "data_tvshow[\"country\"].value_counts().head(1)"
   ]
  },
  {
   "cell_type": "code",
   "execution_count": null,
   "id": "e57746d7-0b24-4df5-a647-5b9bd01437e7",
   "metadata": {},
   "outputs": [],
   "source": [
    "# United States has highest number of TV Shows."
   ]
  }
 ],
 "metadata": {
  "kernelspec": {
   "display_name": "Python 3 (ipykernel)",
   "language": "python",
   "name": "python3"
  },
  "language_info": {
   "codemirror_mode": {
    "name": "ipython",
    "version": 3
   },
   "file_extension": ".py",
   "mimetype": "text/x-python",
   "name": "python",
   "nbconvert_exporter": "python",
   "pygments_lexer": "ipython3",
   "version": "3.10.5"
  }
 },
 "nbformat": 4,
 "nbformat_minor": 5
}
